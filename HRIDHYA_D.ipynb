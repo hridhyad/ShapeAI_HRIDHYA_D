{
  "nbformat": 4,
  "nbformat_minor": 0,
  "metadata": {
    "colab": {
      "name": "HRIDHYA_D.ipynb",
      "provenance": [],
      "collapsed_sections": []
    },
    "kernelspec": {
      "name": "python3",
      "display_name": "Python 3"
    },
    "language_info": {
      "name": "python"
    }
  },
  "cells": [
    {
      "cell_type": "code",
      "metadata": {
        "id": "8QKuPwTR7wOG"
      },
      "source": [
        "from keras.datasets import mnist\n",
        "data=mnist.load_data()"
      ],
      "execution_count": 62,
      "outputs": []
    },
    {
      "cell_type": "code",
      "metadata": {
        "id": "MKTHpKmZ8uBY"
      },
      "source": [
        "(X_train, y_train), (X_test, y_test)=data"
      ],
      "execution_count": 63,
      "outputs": []
    },
    {
      "cell_type": "code",
      "metadata": {
        "id": "S-OAuoHUAl67"
      },
      "source": [
        "X_train=X_train.reshape((X_train.shape[0], 28*28)).astype('float32')\n",
        "X_test=X_test.reshape((X_test.shape[0], 28*28)).astype('float32')"
      ],
      "execution_count": 64,
      "outputs": []
    },
    {
      "cell_type": "code",
      "metadata": {
        "id": "6m0Ll9VuBx9x"
      },
      "source": [
        "X_train=X_train / 255\n",
        "X_test=X_test / 255"
      ],
      "execution_count": 65,
      "outputs": []
    },
    {
      "cell_type": "code",
      "metadata": {
        "colab": {
          "base_uri": "https://localhost:8080/"
        },
        "id": "hu9azgSzS2GE",
        "outputId": "cb5acd67-bde1-429c-bc45-8ab8b5cd03c6"
      },
      "source": [
        "from keras.utils import np_utils\n",
        "print(y_test.shape)\n",
        "y_train=np_utils.to_categorical(y_train)\n",
        "y_test=np_utils.to_categorical(y_test)\n",
        "num_classes=y_test.shape[1]\n",
        "print(y_test.shape)"
      ],
      "execution_count": 66,
      "outputs": [
        {
          "output_type": "stream",
          "text": [
            "(10000,)\n",
            "(10000, 10)\n"
          ],
          "name": "stdout"
        }
      ]
    },
    {
      "cell_type": "code",
      "metadata": {
        "id": "I0soA2DGU0lo"
      },
      "source": [
        "from keras.models import Sequential\n",
        "from keras.layers import Dense"
      ],
      "execution_count": 71,
      "outputs": []
    },
    {
      "cell_type": "code",
      "metadata": {
        "id": "Fvn9ckn4VjCH"
      },
      "source": [
        "model=Sequential()\n",
        "model.add(Dense(32, input_dim=28*28, activation='relu'))\n",
        "model.add(Dense(64, activation='relu'))\n",
        "model.add(Dense(10, activation='softmax'))"
      ],
      "execution_count": 72,
      "outputs": []
    },
    {
      "cell_type": "code",
      "metadata": {
        "id": "_zVmtTUXWuDA"
      },
      "source": [
        "model.compile(loss='categorical_crossentropy', optimizer='adam', metrics=['accuracy'])"
      ],
      "execution_count": 73,
      "outputs": []
    },
    {
      "cell_type": "code",
      "metadata": {
        "colab": {
          "base_uri": "https://localhost:8080/"
        },
        "id": "0ppKBZTZXXLB",
        "outputId": "0bac4fe0-4e4f-4a7d-e551-444956b998c9"
      },
      "source": [
        "model.summary()"
      ],
      "execution_count": 74,
      "outputs": [
        {
          "output_type": "stream",
          "text": [
            "Model: \"sequential_6\"\n",
            "_________________________________________________________________\n",
            "Layer (type)                 Output Shape              Param #   \n",
            "=================================================================\n",
            "dense_17 (Dense)             (None, 32)                25120     \n",
            "_________________________________________________________________\n",
            "dense_18 (Dense)             (None, 64)                2112      \n",
            "_________________________________________________________________\n",
            "dense_19 (Dense)             (None, 10)                650       \n",
            "=================================================================\n",
            "Total params: 27,882\n",
            "Trainable params: 27,882\n",
            "Non-trainable params: 0\n",
            "_________________________________________________________________\n"
          ],
          "name": "stdout"
        }
      ]
    },
    {
      "cell_type": "code",
      "metadata": {
        "colab": {
          "base_uri": "https://localhost:8080/"
        },
        "id": "OqUx4UaBXuCX",
        "outputId": "c3cbdfaf-556c-4c3e-8252-1b8b4700c5c8"
      },
      "source": [
        "model.fit(X_train, y_train, validation_split=0.2, epochs=10, batch_size=100)"
      ],
      "execution_count": 75,
      "outputs": [
        {
          "output_type": "stream",
          "text": [
            "Epoch 1/10\n",
            "480/480 [==============================] - 2s 3ms/step - loss: 0.8276 - accuracy: 0.7607 - val_loss: 0.2293 - val_accuracy: 0.9343\n",
            "Epoch 2/10\n",
            "480/480 [==============================] - 1s 2ms/step - loss: 0.2227 - accuracy: 0.9351 - val_loss: 0.1813 - val_accuracy: 0.9477\n",
            "Epoch 3/10\n",
            "480/480 [==============================] - 2s 3ms/step - loss: 0.1656 - accuracy: 0.9515 - val_loss: 0.1576 - val_accuracy: 0.9548\n",
            "Epoch 4/10\n",
            "480/480 [==============================] - 2s 4ms/step - loss: 0.1344 - accuracy: 0.9605 - val_loss: 0.1414 - val_accuracy: 0.9596\n",
            "Epoch 5/10\n",
            "480/480 [==============================] - 2s 3ms/step - loss: 0.1111 - accuracy: 0.9676 - val_loss: 0.1275 - val_accuracy: 0.9626\n",
            "Epoch 6/10\n",
            "480/480 [==============================] - 2s 3ms/step - loss: 0.1012 - accuracy: 0.9701 - val_loss: 0.1206 - val_accuracy: 0.9643\n",
            "Epoch 7/10\n",
            "480/480 [==============================] - 2s 3ms/step - loss: 0.0907 - accuracy: 0.9742 - val_loss: 0.1199 - val_accuracy: 0.9659\n",
            "Epoch 8/10\n",
            "480/480 [==============================] - 1s 3ms/step - loss: 0.0747 - accuracy: 0.9777 - val_loss: 0.1151 - val_accuracy: 0.9663\n",
            "Epoch 9/10\n",
            "480/480 [==============================] - 1s 3ms/step - loss: 0.0706 - accuracy: 0.9794 - val_loss: 0.1129 - val_accuracy: 0.9675\n",
            "Epoch 10/10\n",
            "480/480 [==============================] - 2s 4ms/step - loss: 0.0629 - accuracy: 0.9803 - val_loss: 0.1116 - val_accuracy: 0.9682\n"
          ],
          "name": "stdout"
        },
        {
          "output_type": "execute_result",
          "data": {
            "text/plain": [
              "<tensorflow.python.keras.callbacks.History at 0x7f6f97605910>"
            ]
          },
          "metadata": {
            "tags": []
          },
          "execution_count": 75
        }
      ]
    },
    {
      "cell_type": "code",
      "metadata": {
        "colab": {
          "base_uri": "https://localhost:8080/"
        },
        "id": "uMqSwrYqZU_c",
        "outputId": "1bf6e242-a58a-49de-9f35-f44c23f0a3b9"
      },
      "source": [
        "scores=model.evaluate(X_test, y_test)\n",
        "print(scores)"
      ],
      "execution_count": 76,
      "outputs": [
        {
          "output_type": "stream",
          "text": [
            "313/313 [==============================] - 1s 1ms/step - loss: 0.1079 - accuracy: 0.9684\n",
            "[0.10786286741495132, 0.9684000015258789]\n"
          ],
          "name": "stdout"
        }
      ]
    }
  ]
}